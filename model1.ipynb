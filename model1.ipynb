{
 "cells": [
  {
   "cell_type": "code",
   "execution_count": 1,
   "metadata": {},
   "outputs": [],
   "source": [
    "import tensorflow as tf\n",
    "from keras.models import Sequential\n",
    "from keras.layers import Flatten\n",
    "from keras.layers import Dense\n",
    "import numpy as np\n",
    "from matplotlib import pyplot as plt\n",
    "import cv2"
   ]
  },
  {
   "cell_type": "code",
   "execution_count": 2,
   "metadata": {},
   "outputs": [],
   "source": [
    "minst = tf.keras.datasets.mnist\n",
    "\n",
    "(x_train, y_train), (x_test, y_test) = minst.load_data()\n",
    "\n",
    "x_train = tf.keras.utils.normalize(x_train, axis=1)\n",
    "x_test = tf.keras.utils.normalize(x_test, axis=1)"
   ]
  },
  {
   "cell_type": "code",
   "execution_count": 3,
   "metadata": {},
   "outputs": [
    {
     "name": "stdout",
     "output_type": "stream",
     "text": [
      "Model: \"DigitIdentifier\"\n",
      "_________________________________________________________________\n",
      " Layer (type)                Output Shape              Param #   \n",
      "=================================================================\n",
      " flatten (Flatten)           (None, 784)               0         \n",
      "                                                                 \n",
      " layer_1 (Dense)             (None, 128)               100480    \n",
      "                                                                 \n",
      " layer_2 (Dense)             (None, 128)               16512     \n",
      "                                                                 \n",
      " output_layer (Dense)        (None, 10)                1290      \n",
      "                                                                 \n",
      "=================================================================\n",
      "Total params: 118,282\n",
      "Trainable params: 118,282\n",
      "Non-trainable params: 0\n",
      "_________________________________________________________________\n"
     ]
    }
   ],
   "source": [
    "model = Sequential([\n",
    "        Flatten(input_shape=(28, 28)),\n",
    "        Dense(units=128, activation='relu', name='layer_1'),\n",
    "        Dense(units=128, activation='relu', name='layer_2'),\n",
    "        Dense(units=10, activation='softmax', name='output_layer')\n",
    "    ], name='DigitIdentifier'\n",
    ")\n",
    "\n",
    "model.summary()\n"
   ]
  },
  {
   "cell_type": "code",
   "execution_count": 4,
   "metadata": {},
   "outputs": [],
   "source": [
    "model.compile(\n",
    "    loss='sparse_categorical_crossentropy',\n",
    "    optimizer='Adam',\n",
    "    metrics=['accuracy']\n",
    ")"
   ]
  },
  {
   "cell_type": "code",
   "execution_count": 5,
   "metadata": {},
   "outputs": [
    {
     "name": "stdout",
     "output_type": "stream",
     "text": [
      "Epoch 1/50\n",
      "1875/1875 [==============================] - 9s 4ms/step - loss: 0.2625 - accuracy: 0.9232\n",
      "Epoch 2/50\n",
      "1875/1875 [==============================] - 7s 4ms/step - loss: 0.1062 - accuracy: 0.9671\n",
      "Epoch 3/50\n",
      "1875/1875 [==============================] - 6s 3ms/step - loss: 0.0706 - accuracy: 0.9779\n",
      "Epoch 4/50\n",
      "1875/1875 [==============================] - 8s 4ms/step - loss: 0.0521 - accuracy: 0.9837\n",
      "Epoch 5/50\n",
      "1875/1875 [==============================] - 7s 4ms/step - loss: 0.0402 - accuracy: 0.9866\n",
      "Epoch 6/50\n",
      "1875/1875 [==============================] - 5s 3ms/step - loss: 0.0319 - accuracy: 0.9897\n",
      "Epoch 7/50\n",
      "1875/1875 [==============================] - 6s 3ms/step - loss: 0.0248 - accuracy: 0.9913\n",
      "Epoch 8/50\n",
      "1875/1875 [==============================] - 7s 4ms/step - loss: 0.0207 - accuracy: 0.9930\n",
      "Epoch 9/50\n",
      "1875/1875 [==============================] - 7s 4ms/step - loss: 0.0177 - accuracy: 0.9940\n",
      "Epoch 10/50\n",
      "1875/1875 [==============================] - 7s 4ms/step - loss: 0.0143 - accuracy: 0.9951\n",
      "Epoch 11/50\n",
      "1875/1875 [==============================] - 4s 2ms/step - loss: 0.0138 - accuracy: 0.9952\n",
      "Epoch 12/50\n",
      "1875/1875 [==============================] - 7s 4ms/step - loss: 0.0109 - accuracy: 0.9961\n",
      "Epoch 13/50\n",
      "1875/1875 [==============================] - 8s 4ms/step - loss: 0.0115 - accuracy: 0.9959\n",
      "Epoch 14/50\n",
      "1875/1875 [==============================] - 8s 4ms/step - loss: 0.0125 - accuracy: 0.9958\n",
      "Epoch 15/50\n",
      "1875/1875 [==============================] - 6s 3ms/step - loss: 0.0084 - accuracy: 0.9973\n",
      "Epoch 16/50\n",
      "1875/1875 [==============================] - 8s 4ms/step - loss: 0.0080 - accuracy: 0.9970\n",
      "Epoch 17/50\n",
      "1875/1875 [==============================] - 8s 4ms/step - loss: 0.0080 - accuracy: 0.9971\n",
      "Epoch 18/50\n",
      " 315/1875 [====>.........................] - ETA: 6s - loss: 0.0070 - accuracy: 0.9977"
     ]
    }
   ],
   "source": [
    "model.fit(x_train, y_train, epochs=50)"
   ]
  },
  {
   "cell_type": "code",
   "execution_count": null,
   "metadata": {},
   "outputs": [
    {
     "name": "stdout",
     "output_type": "stream",
     "text": [
      "313/313 [==============================] - 1s 1ms/step - loss: 0.0907 - accuracy: 0.9736\n"
     ]
    },
    {
     "data": {
      "text/plain": [
       "[0.0907345861196518, 0.9735999703407288]"
      ]
     },
     "execution_count": 7,
     "metadata": {},
     "output_type": "execute_result"
    }
   ],
   "source": [
    "model.evaluate(x_test, y_test)"
   ]
  },
  {
   "cell_type": "code",
   "execution_count": null,
   "metadata": {},
   "outputs": [],
   "source": [
    "model.save('model1.model')"
   ]
  }
 ],
 "metadata": {
  "kernelspec": {
   "display_name": "Python 3.9.7 ('base')",
   "language": "python",
   "name": "python3"
  },
  "language_info": {
   "codemirror_mode": {
    "name": "ipython",
    "version": 3
   },
   "file_extension": ".py",
   "mimetype": "text/x-python",
   "name": "python",
   "nbconvert_exporter": "python",
   "pygments_lexer": "ipython3",
   "version": "3.9.7"
  },
  "orig_nbformat": 4,
  "vscode": {
   "interpreter": {
    "hash": "32398650ee3f02160dc2e7e015a0fa7930a25984e664e5d72479eb4a1ccea3f8"
   }
  }
 },
 "nbformat": 4,
 "nbformat_minor": 2
}
