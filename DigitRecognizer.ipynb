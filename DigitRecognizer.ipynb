{
 "cells": [
  {
   "cell_type": "code",
   "execution_count": 144,
   "metadata": {},
   "outputs": [],
   "source": [
    "import tensorflow as tf\n",
    "from keras.models import Sequential\n",
    "from keras.layers import Flatten\n",
    "from keras.layers import Dense\n",
    "import numpy as np\n",
    "from matplotlib import pyplot as plt\n",
    "import cv2\n",
    "import os"
   ]
  },
  {
   "cell_type": "code",
   "execution_count": 145,
   "metadata": {},
   "outputs": [],
   "source": [
    "minst = tf.keras.datasets.mnist\n",
    "\n",
    "(x_train, y_train), (x_test, y_test) = minst.load_data()\n",
    "\n",
    "x_test = x_test / 255\n",
    "x_train = tf.keras.utils.normalize(x_train, 1)\n",
    "x_test = tf.keras.utils.normalize(x_test, 1)\n"
   ]
  },
  {
   "cell_type": "code",
   "execution_count": 146,
   "metadata": {},
   "outputs": [
    {
     "name": "stdout",
     "output_type": "stream",
     "text": [
      "Model: \"DigitIdentifier\"\n",
      "_________________________________________________________________\n",
      " Layer (type)                Output Shape              Param #   \n",
      "=================================================================\n",
      " flatten_8 (Flatten)         (None, 784)               0         \n",
      "                                                                 \n",
      " layer_1 (Dense)             (None, 128)               100480    \n",
      "                                                                 \n",
      " layer_2 (Dense)             (None, 128)               16512     \n",
      "                                                                 \n",
      " output_layer (Dense)        (None, 10)                1290      \n",
      "                                                                 \n",
      "=================================================================\n",
      "Total params: 118,282\n",
      "Trainable params: 118,282\n",
      "Non-trainable params: 0\n",
      "_________________________________________________________________\n"
     ]
    }
   ],
   "source": [
    "model = Sequential([\n",
    "        Flatten(input_shape=(28, 28)),\n",
    "        Dense(units=128, activation='relu', name='layer_1'),\n",
    "        Dense(units=128, activation='relu', name='layer_2'),\n",
    "        Dense(units=10, activation='softmax', name='output_layer')\n",
    "    ], name='DigitIdentifier'\n",
    ")\n",
    "\n",
    "model.summary()\n"
   ]
  },
  {
   "cell_type": "code",
   "execution_count": 147,
   "metadata": {},
   "outputs": [],
   "source": [
    "model.compile(\n",
    "    loss='sparse_categorical_crossentropy',\n",
    "    optimizer='Adam',\n",
    "    metrics=['accuracy']\n",
    ")"
   ]
  },
  {
   "cell_type": "code",
   "execution_count": 148,
   "metadata": {},
   "outputs": [
    {
     "name": "stdout",
     "output_type": "stream",
     "text": [
      "Epoch 1/5\n",
      "1875/1875 [==============================] - 5s 3ms/step - loss: 0.2583 - accuracy: 0.9240\n",
      "Epoch 2/5\n",
      "1875/1875 [==============================] - 5s 3ms/step - loss: 0.1031 - accuracy: 0.9684\n",
      "Epoch 3/5\n",
      "1875/1875 [==============================] - 5s 3ms/step - loss: 0.0704 - accuracy: 0.9780\n",
      "Epoch 4/5\n",
      "1875/1875 [==============================] - 6s 3ms/step - loss: 0.0520 - accuracy: 0.9834\n",
      "Epoch 5/5\n",
      "1875/1875 [==============================] - 8s 4ms/step - loss: 0.0402 - accuracy: 0.9867\n"
     ]
    },
    {
     "data": {
      "text/plain": [
       "<keras.callbacks.History at 0x247a3f4eac0>"
      ]
     },
     "execution_count": 148,
     "metadata": {},
     "output_type": "execute_result"
    }
   ],
   "source": [
    "model.fit(x_train, y_train, epochs=5)"
   ]
  },
  {
   "cell_type": "code",
   "execution_count": 135,
   "metadata": {},
   "outputs": [
    {
     "name": "stdout",
     "output_type": "stream",
     "text": [
      "INFO:tensorflow:Assets written to: digitRecognizer.model\\assets\n"
     ]
    }
   ],
   "source": [
    "model.save('digitRecognizer.model')\n",
    "# model = tf.keras.model.load_model('digitRecognizer.model')"
   ]
  },
  {
   "cell_type": "code",
   "execution_count": 149,
   "metadata": {},
   "outputs": [
    {
     "name": "stdout",
     "output_type": "stream",
     "text": [
      "313/313 [==============================] - 1s 2ms/step - loss: 0.0904 - accuracy: 0.9741\n"
     ]
    },
    {
     "data": {
      "text/plain": [
       "[0.09036961942911148, 0.9740999937057495]"
      ]
     },
     "execution_count": 149,
     "metadata": {},
     "output_type": "execute_result"
    }
   ],
   "source": [
    "model.evaluate(x_test, y_test)\n",
    "# [0.0926012247800827, 0.9735000133514404]"
   ]
  },
  {
   "cell_type": "code",
   "execution_count": 159,
   "metadata": {},
   "outputs": [
    {
     "name": "stdout",
     "output_type": "stream",
     "text": [
      "1/1 [==============================] - 0s 25ms/step\n",
      "This is a 1 with 100.0% certainty.\n",
      "1/1 [==============================] - 0s 29ms/step\n",
      "This is a 2 with 100.0% certainty.\n",
      "1/1 [==============================] - 0s 27ms/step\n",
      "This is a 3 with 100.0% certainty.\n",
      "1/1 [==============================] - 0s 27ms/step\n",
      "This is a 4 with 100.0% certainty.\n",
      "1/1 [==============================] - 0s 23ms/step\n",
      "This is a 5 with 100.0% certainty.\n",
      "1/1 [==============================] - 0s 30ms/step\n",
      "This is a 6 with 100.0% certainty.\n",
      "1/1 [==============================] - 0s 28ms/step\n",
      "This is a 7 with 100.0% certainty.\n",
      "1/1 [==============================] - 0s 28ms/step\n",
      "This is a 8 with 100.0% certainty.\n",
      "1/1 [==============================] - 0s 21ms/step\n",
      "This is a 9 with 100.0% certainty.\n",
      "\n",
      "Number correct: 9\n",
      "Number incorrect: 0\n",
      "Accuracy: 100%\n"
     ]
    }
   ],
   "source": [
    "numCorrect = 0\n",
    "numIncorrect = 0\n",
    "\n",
    "for i in range(1, 10):\n",
    "    img = cv2.imread(f'DigitTests/{i}.png')[:,:,0]\n",
    "    img = np.invert(np.array([img]))\n",
    "    # img = img / 255\n",
    "\n",
    "    prediction = model.predict(img)\n",
    "\n",
    "    \n",
    "    print(f\"This is a {np.argmax(prediction)} with {round(prediction.max() * 100, 2)}% certainty.\")   \n",
    "\n",
    "    if prediction.argmax() == i:\n",
    "        numCorrect += 1\n",
    "    else:\n",
    "        numIncorrect += 1\n",
    "\n",
    "print(f\"\\nNumber correct: {numCorrect}\\nNumber incorrect: {numIncorrect}\\nAccuracy: {round(numCorrect / 9 * 100)}%\")"
   ]
  }
 ],
 "metadata": {
  "kernelspec": {
   "display_name": "Python 3.9.7 ('base')",
   "language": "python",
   "name": "python3"
  },
  "language_info": {
   "codemirror_mode": {
    "name": "ipython",
    "version": 3
   },
   "file_extension": ".py",
   "mimetype": "text/x-python",
   "name": "python",
   "nbconvert_exporter": "python",
   "pygments_lexer": "ipython3",
   "version": "3.9.7"
  },
  "orig_nbformat": 4,
  "vscode": {
   "interpreter": {
    "hash": "32398650ee3f02160dc2e7e015a0fa7930a25984e664e5d72479eb4a1ccea3f8"
   }
  }
 },
 "nbformat": 4,
 "nbformat_minor": 2
}
