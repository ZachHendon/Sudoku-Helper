{
 "cells": [
  {
   "cell_type": "code",
   "execution_count": 1,
   "metadata": {},
   "outputs": [],
   "source": [
    "import numpy as np\n",
    "import matplotlib.pyplot as plt\n",
    "\n",
    "import keras\n",
    "\n",
    "from keras.datasets import mnist\n",
    "\n",
    "from keras.models import Sequential\n",
    "from keras.layers import Dense, Conv2D, MaxPool2D, Flatten, Dropout"
   ]
  },
  {
   "cell_type": "code",
   "execution_count": 2,
   "metadata": {},
   "outputs": [],
   "source": [
    "SIZE = 100\n",
    "\n",
    "X_train = np.genfromtxt('X_train.csv')\n",
    "X_train = X_train.reshape((X_train.shape[0], SIZE, SIZE))\n",
    "X_train = X_train.astype(np.float32) / 255\n",
    "X_train = np.expand_dims(X_train, -1)\n",
    "\n",
    "y_train = np.genfromtxt('y_train.csv')\n",
    "y_train = y_train.astype(int)\n",
    "y_train = keras.utils.to_categorical(y_train)\n",
    "\n",
    "X_test = np.genfromtxt('X_test.csv')\n",
    "X_test = X_test.reshape((X_test.shape[0], SIZE, SIZE))\n",
    "X_test = X_test.astype(np.float32) / 255\n",
    "X_test = np.expand_dims(X_test, -1)\n",
    "\n",
    "y_test = np.genfromtxt('y_test.csv')\n",
    "y_test = y_test.astype(int)\n",
    "y_test = keras.utils.to_categorical(y_test)"
   ]
  },
  {
   "cell_type": "code",
   "execution_count": 8,
   "metadata": {},
   "outputs": [
    {
     "name": "stdout",
     "output_type": "stream",
     "text": [
      "Model: \"sequential_1\"\n",
      "_________________________________________________________________\n",
      " Layer (type)                Output Shape              Param #   \n",
      "=================================================================\n",
      " conv2d_2 (Conv2D)           (None, 98, 98, 32)        320       \n",
      "                                                                 \n",
      " max_pooling2d_2 (MaxPooling  (None, 49, 49, 32)       0         \n",
      " 2D)                                                             \n",
      "                                                                 \n",
      " conv2d_3 (Conv2D)           (None, 47, 47, 64)        18496     \n",
      "                                                                 \n",
      " max_pooling2d_3 (MaxPooling  (None, 23, 23, 64)       0         \n",
      " 2D)                                                             \n",
      "                                                                 \n",
      " flatten_1 (Flatten)         (None, 33856)             0         \n",
      "                                                                 \n",
      " dropout_1 (Dropout)         (None, 33856)             0         \n",
      "                                                                 \n",
      " dense_1 (Dense)             (None, 10)                338570    \n",
      "                                                                 \n",
      "=================================================================\n",
      "Total params: 357,386\n",
      "Trainable params: 357,386\n",
      "Non-trainable params: 0\n",
      "_________________________________________________________________\n"
     ]
    }
   ],
   "source": [
    "model = Sequential()\n",
    "\n",
    "model.add(Conv2D(32, (3,3), input_shape = (100, 100, 1), activation = 'relu'))\n",
    "model.add(MaxPool2D((2, 2)))\n",
    "\n",
    "model.add(Conv2D(64, (3,3), activation = 'relu'))\n",
    "model.add(MaxPool2D((2, 2)))\n",
    "\n",
    "model.add(Flatten())\n",
    "\n",
    "model.add(Dropout(0.25))\n",
    "\n",
    "model.add(Dense(10, activation = 'softmax'))\n",
    "\n",
    "\n",
    "model.summary()"
   ]
  },
  {
   "cell_type": "code",
   "execution_count": 9,
   "metadata": {},
   "outputs": [],
   "source": [
    "model.compile(optimizer='adam', loss=keras.losses.categorical_crossentropy, metrics=['accuracy'])"
   ]
  },
  {
   "cell_type": "code",
   "execution_count": 11,
   "metadata": {},
   "outputs": [
    {
     "name": "stdout",
     "output_type": "stream",
     "text": [
      "Epoch 1/5\n",
      "33/33 [==============================] - 5s 149ms/step - loss: 0.0585 - accuracy: 0.9835 - val_loss: 0.2878 - val_accuracy: 0.9278\n",
      "Epoch 2/5\n",
      "33/33 [==============================] - 5s 147ms/step - loss: 0.0306 - accuracy: 0.9903 - val_loss: 0.3201 - val_accuracy: 0.9278\n",
      "Epoch 3/5\n",
      "33/33 [==============================] - 5s 148ms/step - loss: 0.0191 - accuracy: 0.9932 - val_loss: 0.3305 - val_accuracy: 0.9278\n",
      "Epoch 4/5\n",
      "33/33 [==============================] - 5s 142ms/step - loss: 0.0128 - accuracy: 0.9961 - val_loss: 0.2839 - val_accuracy: 0.9413\n",
      "Epoch 5/5\n",
      "33/33 [==============================] - 5s 139ms/step - loss: 0.0152 - accuracy: 0.9961 - val_loss: 0.2613 - val_accuracy: 0.9526\n"
     ]
    }
   ],
   "source": [
    "model.fit(X_train, y_train, epochs=5, validation_split=0.3)"
   ]
  },
  {
   "cell_type": "code",
   "execution_count": 12,
   "metadata": {},
   "outputs": [
    {
     "name": "stdout",
     "output_type": "stream",
     "text": [
      "11/11 [==============================] - 0s 34ms/step - loss: 0.0231 - accuracy: 0.9907\n"
     ]
    },
    {
     "data": {
      "text/plain": [
       "[0.023118648678064346, 0.9907407164573669]"
      ]
     },
     "execution_count": 12,
     "metadata": {},
     "output_type": "execute_result"
    }
   ],
   "source": [
    "model.evaluate(X_test, y_test)"
   ]
  },
  {
   "cell_type": "code",
   "execution_count": 13,
   "metadata": {},
   "outputs": [],
   "source": [
    "model.save('PrintedDigitRecognizer2.h5')"
   ]
  }
 ],
 "metadata": {
  "kernelspec": {
   "display_name": "Python 3.9.7 ('base')",
   "language": "python",
   "name": "python3"
  },
  "language_info": {
   "codemirror_mode": {
    "name": "ipython",
    "version": 3
   },
   "file_extension": ".py",
   "mimetype": "text/x-python",
   "name": "python",
   "nbconvert_exporter": "python",
   "pygments_lexer": "ipython3",
   "version": "3.9.7"
  },
  "orig_nbformat": 4,
  "vscode": {
   "interpreter": {
    "hash": "32398650ee3f02160dc2e7e015a0fa7930a25984e664e5d72479eb4a1ccea3f8"
   }
  }
 },
 "nbformat": 4,
 "nbformat_minor": 2
}
