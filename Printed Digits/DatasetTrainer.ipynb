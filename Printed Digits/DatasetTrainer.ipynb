{
 "cells": [
  {
   "cell_type": "code",
   "execution_count": 1,
   "metadata": {},
   "outputs": [],
   "source": [
    "import tensorflow as tf\n",
    "from keras.models import Sequential\n",
    "from keras.layers import Flatten\n",
    "from keras.layers import Dense\n",
    "import numpy as np\n",
    "from matplotlib import pyplot as plt\n",
    "import cv2"
   ]
  },
  {
   "cell_type": "code",
   "execution_count": 2,
   "metadata": {},
   "outputs": [],
   "source": [
    "SIZE = 100\n",
    "\n",
    "X_train = np.genfromtxt('X_train.csv')\n",
    "X_train = X_train.reshape((X_train.shape[0], SIZE, SIZE))\n",
    "X_train = tf.keras.utils.normalize(X_train, axis=1)\n",
    "\n",
    "y_train = np.genfromtxt('y_train.csv')\n",
    "y_train = y_train.astype(int)\n",
    "\n",
    "\n",
    "X_test = np.genfromtxt('X_test.csv')\n",
    "X_test = X_test.reshape((X_test.shape[0], SIZE, SIZE))\n",
    "X_test = tf.keras.utils.normalize(X_test, axis=1)\n",
    "\n",
    "\n",
    "y_test = np.genfromtxt('y_test.csv')\n",
    "y_test = y_test.astype(int)"
   ]
  },
  {
   "cell_type": "code",
   "execution_count": 4,
   "metadata": {},
   "outputs": [
    {
     "name": "stdout",
     "output_type": "stream",
     "text": [
      "Model: \"DigitIdentifier\"\n",
      "_________________________________________________________________\n",
      " Layer (type)                Output Shape              Param #   \n",
      "=================================================================\n",
      " flatten_1 (Flatten)         (None, 10000)             0         \n",
      "                                                                 \n",
      " layer_1_relu (Dense)        (None, 128)               1280128   \n",
      "                                                                 \n",
      " layer_2_relu (Dense)        (None, 128)               16512     \n",
      "                                                                 \n",
      " output_layer_softmax (Dense  (None, 10)               1290      \n",
      " )                                                               \n",
      "                                                                 \n",
      "=================================================================\n",
      "Total params: 1,297,930\n",
      "Trainable params: 1,297,930\n",
      "Non-trainable params: 0\n",
      "_________________________________________________________________\n"
     ]
    }
   ],
   "source": [
    "model = Sequential([\n",
    "        Flatten(input_shape=(100, 100)),\n",
    "        Dense(units=128, activation='relu', name='layer_1_relu'),\n",
    "        Dense(units=128, activation='relu', name='layer_2_relu'),\n",
    "        Dense(units=10, activation='softmax', name='output_layer_softmax')\n",
    "    ], name='DigitIdentifier'\n",
    ")\n",
    "\n",
    "model.summary()"
   ]
  },
  {
   "cell_type": "code",
   "execution_count": 23,
   "metadata": {},
   "outputs": [],
   "source": [
    "model.compile(\n",
    "    loss='sparse_categorical_crossentropy',\n",
    "    optimizer='Adam',\n",
    "    metrics=['accuracy']\n",
    ")"
   ]
  },
  {
   "cell_type": "code",
   "execution_count": 24,
   "metadata": {},
   "outputs": [
    {
     "name": "stdout",
     "output_type": "stream",
     "text": [
      "Epoch 1/10\n",
      "47/47 [==============================] - 1s 6ms/step - loss: 0.8435 - accuracy: 0.8137\n",
      "Epoch 2/10\n",
      "47/47 [==============================] - 0s 6ms/step - loss: 0.1620 - accuracy: 0.9600\n",
      "Epoch 3/10\n",
      "47/47 [==============================] - 0s 6ms/step - loss: 0.1054 - accuracy: 0.9722\n",
      "Epoch 4/10\n",
      "47/47 [==============================] - 0s 6ms/step - loss: 0.0807 - accuracy: 0.9810\n",
      "Epoch 5/10\n",
      "47/47 [==============================] - 0s 6ms/step - loss: 0.0649 - accuracy: 0.9831\n",
      "Epoch 6/10\n",
      "47/47 [==============================] - 0s 6ms/step - loss: 0.0618 - accuracy: 0.9851\n",
      "Epoch 7/10\n",
      "47/47 [==============================] - 0s 6ms/step - loss: 0.0509 - accuracy: 0.9864\n",
      "Epoch 8/10\n",
      "47/47 [==============================] - 0s 6ms/step - loss: 0.0478 - accuracy: 0.9892\n",
      "Epoch 9/10\n",
      "47/47 [==============================] - 0s 6ms/step - loss: 0.0464 - accuracy: 0.9878\n",
      "Epoch 10/10\n",
      "47/47 [==============================] - 0s 6ms/step - loss: 0.0454 - accuracy: 0.9871\n"
     ]
    },
    {
     "data": {
      "text/plain": [
       "<keras.callbacks.History at 0x185d5479cd0>"
      ]
     },
     "execution_count": 24,
     "metadata": {},
     "output_type": "execute_result"
    }
   ],
   "source": [
    "model.fit(X_train, y_train, epochs=10)"
   ]
  },
  {
   "cell_type": "code",
   "execution_count": 25,
   "metadata": {},
   "outputs": [
    {
     "name": "stdout",
     "output_type": "stream",
     "text": [
      "11/11 [==============================] - 0s 2ms/step - loss: 0.0240 - accuracy: 0.9907\n"
     ]
    },
    {
     "data": {
      "text/plain": [
       "[0.024000266566872597, 0.9907407164573669]"
      ]
     },
     "execution_count": 25,
     "metadata": {},
     "output_type": "execute_result"
    }
   ],
   "source": [
    "model.evaluate(X_test, y_test)"
   ]
  },
  {
   "cell_type": "code",
   "execution_count": 26,
   "metadata": {},
   "outputs": [],
   "source": [
    "model.save('PrintedDigitRecognizer.h5')"
   ]
  }
 ],
 "metadata": {
  "kernelspec": {
   "display_name": "Python 3.9.7 ('base')",
   "language": "python",
   "name": "python3"
  },
  "language_info": {
   "codemirror_mode": {
    "name": "ipython",
    "version": 3
   },
   "file_extension": ".py",
   "mimetype": "text/x-python",
   "name": "python",
   "nbconvert_exporter": "python",
   "pygments_lexer": "ipython3",
   "version": "3.9.7"
  },
  "orig_nbformat": 4,
  "vscode": {
   "interpreter": {
    "hash": "32398650ee3f02160dc2e7e015a0fa7930a25984e664e5d72479eb4a1ccea3f8"
   }
  }
 },
 "nbformat": 4,
 "nbformat_minor": 2
}
